{
 "cells": [
  {
   "cell_type": "code",
   "execution_count": 1,
   "metadata": {},
   "outputs": [
    {
     "name": "stdout",
     "output_type": "stream",
     "text": [
      "Collecting mistralai\n",
      "  Downloading mistralai-1.5.1-py3-none-any.whl.metadata (29 kB)\n",
      "Collecting eval-type-backport>=0.2.0 (from mistralai)\n",
      "  Using cached eval_type_backport-0.2.2-py3-none-any.whl.metadata (2.2 kB)\n",
      "Collecting httpx>=0.27.0 (from mistralai)\n",
      "  Using cached httpx-0.28.1-py3-none-any.whl.metadata (7.1 kB)\n",
      "Collecting jsonpath-python>=1.0.6 (from mistralai)\n",
      "  Using cached jsonpath_python-1.0.6-py3-none-any.whl.metadata (12 kB)\n",
      "Collecting pydantic>=2.9.0 (from mistralai)\n",
      "  Using cached pydantic-2.10.6-py3-none-any.whl.metadata (30 kB)\n",
      "Requirement already satisfied: python-dateutil>=2.8.2 in ./.venv/lib/python3.13/site-packages (from mistralai) (2.9.0.post0)\n",
      "Collecting typing-inspect>=0.9.0 (from mistralai)\n",
      "  Using cached typing_inspect-0.9.0-py3-none-any.whl.metadata (1.5 kB)\n",
      "Collecting anyio (from httpx>=0.27.0->mistralai)\n",
      "  Using cached anyio-4.8.0-py3-none-any.whl.metadata (4.6 kB)\n",
      "Collecting certifi (from httpx>=0.27.0->mistralai)\n",
      "  Using cached certifi-2025.1.31-py3-none-any.whl.metadata (2.5 kB)\n",
      "Collecting httpcore==1.* (from httpx>=0.27.0->mistralai)\n",
      "  Using cached httpcore-1.0.7-py3-none-any.whl.metadata (21 kB)\n",
      "Collecting idna (from httpx>=0.27.0->mistralai)\n",
      "  Using cached idna-3.10-py3-none-any.whl.metadata (10 kB)\n",
      "Collecting h11<0.15,>=0.13 (from httpcore==1.*->httpx>=0.27.0->mistralai)\n",
      "  Using cached h11-0.14.0-py3-none-any.whl.metadata (8.2 kB)\n",
      "Collecting annotated-types>=0.6.0 (from pydantic>=2.9.0->mistralai)\n",
      "  Using cached annotated_types-0.7.0-py3-none-any.whl.metadata (15 kB)\n",
      "Collecting pydantic-core==2.27.2 (from pydantic>=2.9.0->mistralai)\n",
      "  Downloading pydantic_core-2.27.2-cp313-cp313-macosx_11_0_arm64.whl.metadata (6.6 kB)\n",
      "Collecting typing-extensions>=4.12.2 (from pydantic>=2.9.0->mistralai)\n",
      "  Using cached typing_extensions-4.12.2-py3-none-any.whl.metadata (3.0 kB)\n",
      "Requirement already satisfied: six>=1.5 in ./.venv/lib/python3.13/site-packages (from python-dateutil>=2.8.2->mistralai) (1.17.0)\n",
      "Collecting mypy-extensions>=0.3.0 (from typing-inspect>=0.9.0->mistralai)\n",
      "  Using cached mypy_extensions-1.0.0-py3-none-any.whl.metadata (1.1 kB)\n",
      "Collecting sniffio>=1.1 (from anyio->httpx>=0.27.0->mistralai)\n",
      "  Using cached sniffio-1.3.1-py3-none-any.whl.metadata (3.9 kB)\n",
      "Downloading mistralai-1.5.1-py3-none-any.whl (278 kB)\n",
      "Using cached eval_type_backport-0.2.2-py3-none-any.whl (5.8 kB)\n",
      "Using cached httpx-0.28.1-py3-none-any.whl (73 kB)\n",
      "Using cached httpcore-1.0.7-py3-none-any.whl (78 kB)\n",
      "Using cached jsonpath_python-1.0.6-py3-none-any.whl (7.6 kB)\n",
      "Using cached pydantic-2.10.6-py3-none-any.whl (431 kB)\n",
      "Downloading pydantic_core-2.27.2-cp313-cp313-macosx_11_0_arm64.whl (1.8 MB)\n",
      "\u001b[2K   \u001b[38;2;114;156;31m━━━━━━━━━━━━━━━━━━━━━━━━━━━━━━━━━━━━━━━━\u001b[0m \u001b[32m1.8/1.8 MB\u001b[0m \u001b[31m34.6 MB/s\u001b[0m eta \u001b[36m0:00:00\u001b[0m\n",
      "\u001b[?25hUsing cached typing_inspect-0.9.0-py3-none-any.whl (8.8 kB)\n",
      "Using cached annotated_types-0.7.0-py3-none-any.whl (13 kB)\n",
      "Using cached mypy_extensions-1.0.0-py3-none-any.whl (4.7 kB)\n",
      "Using cached typing_extensions-4.12.2-py3-none-any.whl (37 kB)\n",
      "Using cached anyio-4.8.0-py3-none-any.whl (96 kB)\n",
      "Using cached idna-3.10-py3-none-any.whl (70 kB)\n",
      "Using cached certifi-2025.1.31-py3-none-any.whl (166 kB)\n",
      "Using cached h11-0.14.0-py3-none-any.whl (58 kB)\n",
      "Using cached sniffio-1.3.1-py3-none-any.whl (10 kB)\n",
      "Installing collected packages: typing-extensions, sniffio, mypy-extensions, jsonpath-python, idna, h11, eval-type-backport, certifi, annotated-types, typing-inspect, pydantic-core, httpcore, anyio, pydantic, httpx, mistralai\n",
      "Successfully installed annotated-types-0.7.0 anyio-4.8.0 certifi-2025.1.31 eval-type-backport-0.2.2 h11-0.14.0 httpcore-1.0.7 httpx-0.28.1 idna-3.10 jsonpath-python-1.0.6 mistralai-1.5.1 mypy-extensions-1.0.0 pydantic-2.10.6 pydantic-core-2.27.2 sniffio-1.3.1 typing-extensions-4.12.2 typing-inspect-0.9.0\n"
     ]
    }
   ],
   "source": [
    "!pip install mistralai\n"
   ]
  },
  {
   "cell_type": "code",
   "execution_count": 3,
   "metadata": {},
   "outputs": [
    {
     "name": "stdout",
     "output_type": "stream",
     "text": [
      "Choosing the \"best\" French cheese can be quite subjective, as it often depends on personal taste preferences. France is renowned for its diverse and delicious cheeses, each with its own unique characteristics. Here are a few highly regarded French cheeses:\n",
      "\n",
      "1. **Camembert**: A soft, creamy cheese with a bloomy rind, often considered one of the most iconic French cheeses. It's best enjoyed at room temperature.\n",
      "\n",
      "2. **Brie**: Another soft cheese with a bloomy rind, Brie is known for its rich, buttery flavor. It comes in various sizes and ages, from young and mild to aged and pungent.\n",
      "\n",
      "3. **Roquefort**: A blue cheese made from sheep's milk, Roquefort is known for its strong, tangy flavor and crumbly texture. It's often served with sweet accompaniments like honey or fruit.\n",
      "\n",
      "4. **Comté**: A hard, unpasteurized cheese made from cow's milk, Comté has a nutty, complex flavor that develops with age. It's often used in cooking and is a staple in French cuisine.\n",
      "\n",
      "5. **Chèvre**: A goat cheese that comes in various forms, from fresh and creamy to aged and crumbly. It's known for its tangy, slightly acidic flavor.\n",
      "\n",
      "6. **Beaufort**: A hard, unpasteurized cheese made from cow's milk, Beaufort has a rich, nutty flavor and a smooth, creamy texture. It's often used in cooking and is a staple in French cuisine.\n",
      "\n",
      "7. **Mimolette**: A hard, cow's milk cheese with a distinctive orange color, Mimolette has a sweet, nutty flavor and a crumbly texture. It's often used in cooking and is a staple in French cuisine.\n",
      "\n",
      "Each of these cheeses has its own unique characteristics and is beloved by cheese enthusiasts for different reasons. The \"best\" cheese ultimately depends on your personal taste preferences.\n"
     ]
    }
   ],
   "source": [
    "import os\n",
    "from mistralai import Mistral\n",
    "\n",
    "api_key = os.environ[\"MISTRAL_API_KEY\"]\n",
    "model = \"mistral-small-latest\"\n",
    "\n",
    "client = Mistral(api_key=api_key)\n",
    "\n",
    "chat_response = client.chat.complete(\n",
    "    model= model,\n",
    "    messages = [\n",
    "        {\n",
    "            \"role\": \"user\",\n",
    "            \"content\": \"What is the best French cheese?\",\n",
    "        },\n",
    "    ]\n",
    ")\n",
    "print(chat_response.choices[0].message.content)"
   ]
  },
  {
   "cell_type": "code",
   "execution_count": 6,
   "metadata": {},
   "outputs": [
    {
     "name": "stdout",
     "output_type": "stream",
     "text": [
      "Collecting pyarrow\n",
      "  Downloading pyarrow-19.0.1-cp313-cp313-macosx_12_0_arm64.whl.metadata (3.3 kB)\n",
      "Collecting fastparquet\n",
      "  Downloading fastparquet-2024.11.0-cp313-cp313-macosx_11_0_arm64.whl.metadata (4.2 kB)\n",
      "Requirement already satisfied: pandas>=1.5.0 in ./.venv/lib/python3.13/site-packages (from fastparquet) (2.2.3)\n",
      "Requirement already satisfied: numpy in ./.venv/lib/python3.13/site-packages (from fastparquet) (2.2.4)\n",
      "Collecting cramjam>=2.3 (from fastparquet)\n",
      "  Downloading cramjam-2.9.1-cp313-cp313-macosx_11_0_arm64.whl.metadata (4.9 kB)\n",
      "Collecting fsspec (from fastparquet)\n",
      "  Using cached fsspec-2025.3.0-py3-none-any.whl.metadata (11 kB)\n",
      "Requirement already satisfied: packaging in ./.venv/lib/python3.13/site-packages (from fastparquet) (24.2)\n",
      "Requirement already satisfied: python-dateutil>=2.8.2 in ./.venv/lib/python3.13/site-packages (from pandas>=1.5.0->fastparquet) (2.9.0.post0)\n",
      "Requirement already satisfied: pytz>=2020.1 in ./.venv/lib/python3.13/site-packages (from pandas>=1.5.0->fastparquet) (2025.1)\n",
      "Requirement already satisfied: tzdata>=2022.7 in ./.venv/lib/python3.13/site-packages (from pandas>=1.5.0->fastparquet) (2025.1)\n",
      "Requirement already satisfied: six>=1.5 in ./.venv/lib/python3.13/site-packages (from python-dateutil>=2.8.2->pandas>=1.5.0->fastparquet) (1.17.0)\n",
      "Downloading pyarrow-19.0.1-cp313-cp313-macosx_12_0_arm64.whl (30.7 MB)\n",
      "\u001b[2K   \u001b[90m━━━━━━━━━━━━━━━━━━━━━━━━━━━━━━━━━━━━━━━━\u001b[0m \u001b[32m30.7/30.7 MB\u001b[0m \u001b[31m47.2 MB/s\u001b[0m eta \u001b[36m0:00:00\u001b[0ma \u001b[36m0:00:01\u001b[0m\n",
      "\u001b[?25hDownloading fastparquet-2024.11.0-cp313-cp313-macosx_11_0_arm64.whl (683 kB)\n",
      "\u001b[2K   \u001b[90m━━━━━━━━━━━━━━━━━━━━━━━━━━━━━━━━━━━━━━━━\u001b[0m \u001b[32m683.8/683.8 kB\u001b[0m \u001b[31m25.2 MB/s\u001b[0m eta \u001b[36m0:00:00\u001b[0m\n",
      "\u001b[?25hDownloading cramjam-2.9.1-cp313-cp313-macosx_11_0_arm64.whl (1.9 MB)\n",
      "\u001b[2K   \u001b[90m━━━━━━━━━━━━━━━━━━━━━━━━━━━━━━━━━━━━━━━━\u001b[0m \u001b[32m1.9/1.9 MB\u001b[0m \u001b[31m34.8 MB/s\u001b[0m eta \u001b[36m0:00:00\u001b[0m\n",
      "\u001b[?25hUsing cached fsspec-2025.3.0-py3-none-any.whl (193 kB)\n",
      "Installing collected packages: pyarrow, fsspec, cramjam, fastparquet\n",
      "Successfully installed cramjam-2.9.1 fastparquet-2024.11.0 fsspec-2025.3.0 pyarrow-19.0.1\n"
     ]
    }
   ],
   "source": [
    "!pip install pyarrow fastparquet"
   ]
  },
  {
   "cell_type": "code",
   "execution_count": 7,
   "metadata": {},
   "outputs": [
    {
     "data": {
      "text/html": [
       "<div>\n",
       "<style scoped>\n",
       "    .dataframe tbody tr th:only-of-type {\n",
       "        vertical-align: middle;\n",
       "    }\n",
       "\n",
       "    .dataframe tbody tr th {\n",
       "        vertical-align: top;\n",
       "    }\n",
       "\n",
       "    .dataframe thead th {\n",
       "        text-align: right;\n",
       "    }\n",
       "</style>\n",
       "<table border=\"1\" class=\"dataframe\">\n",
       "  <thead>\n",
       "    <tr style=\"text-align: right;\">\n",
       "      <th></th>\n",
       "      <th>prompt</th>\n",
       "      <th>prompt_id</th>\n",
       "      <th>messages</th>\n",
       "    </tr>\n",
       "  </thead>\n",
       "  <tbody>\n",
       "    <tr>\n",
       "      <th>0</th>\n",
       "      <td>This story begins with an end. In March 1991, ...</td>\n",
       "      <td>5ee2fbb48ef35593b81444d7aec405bb4f152abbe80f7b...</td>\n",
       "      <td>[{'content': 'This story begins with an end. I...</td>\n",
       "    </tr>\n",
       "    <tr>\n",
       "      <th>1</th>\n",
       "      <td>Explain how the invention and widespread use o...</td>\n",
       "      <td>fc6aae406cd26c79db4d35dd32bcbd8ee0f1493a0096b5...</td>\n",
       "      <td>[{'content': 'Explain how the invention and wi...</td>\n",
       "    </tr>\n",
       "    <tr>\n",
       "      <th>2</th>\n",
       "      <td>Read the passage below and answer the question...</td>\n",
       "      <td>44a13514d9cd363d85479ff25e5837c60c5f90815428c2...</td>\n",
       "      <td>[{'content': 'Read the passage below and answe...</td>\n",
       "    </tr>\n",
       "    <tr>\n",
       "      <th>3</th>\n",
       "      <td>Explain the influence of culture on attitudes ...</td>\n",
       "      <td>c0c7f2a08bd4dc84bc527d774b1fe411eefa7bcdb847b5...</td>\n",
       "      <td>[{'content': 'Explain the influence of culture...</td>\n",
       "    </tr>\n",
       "    <tr>\n",
       "      <th>4</th>\n",
       "      <td>Can you provide data on the employment rates i...</td>\n",
       "      <td>b26cb026578e891c3ccd0cf075da6cffaa05df05412aa0...</td>\n",
       "      <td>[{'content': 'Can you provide data on the empl...</td>\n",
       "    </tr>\n",
       "  </tbody>\n",
       "</table>\n",
       "</div>"
      ],
      "text/plain": [
       "                                              prompt  \\\n",
       "0  This story begins with an end. In March 1991, ...   \n",
       "1  Explain how the invention and widespread use o...   \n",
       "2  Read the passage below and answer the question...   \n",
       "3  Explain the influence of culture on attitudes ...   \n",
       "4  Can you provide data on the employment rates i...   \n",
       "\n",
       "                                           prompt_id  \\\n",
       "0  5ee2fbb48ef35593b81444d7aec405bb4f152abbe80f7b...   \n",
       "1  fc6aae406cd26c79db4d35dd32bcbd8ee0f1493a0096b5...   \n",
       "2  44a13514d9cd363d85479ff25e5837c60c5f90815428c2...   \n",
       "3  c0c7f2a08bd4dc84bc527d774b1fe411eefa7bcdb847b5...   \n",
       "4  b26cb026578e891c3ccd0cf075da6cffaa05df05412aa0...   \n",
       "\n",
       "                                            messages  \n",
       "0  [{'content': 'This story begins with an end. I...  \n",
       "1  [{'content': 'Explain how the invention and wi...  \n",
       "2  [{'content': 'Read the passage below and answe...  \n",
       "3  [{'content': 'Explain the influence of culture...  \n",
       "4  [{'content': 'Can you provide data on the empl...  "
      ]
     },
     "execution_count": 7,
     "metadata": {},
     "output_type": "execute_result"
    }
   ],
   "source": [
    "import pandas as pd\n",
    "\n",
    "df = pd.read_parquet('https://huggingface.co/datasets/HuggingFaceH4/ultrachat_200k/resolve/main/data/test_gen-00000-of-00001-3d4cd8309148a71f.parquet')\n",
    "df.head()"
   ]
  },
  {
   "cell_type": "code",
   "execution_count": 8,
   "metadata": {},
   "outputs": [
    {
     "data": {
      "text/plain": [
       "84912"
      ]
     },
     "execution_count": 8,
     "metadata": {},
     "output_type": "execute_result"
    }
   ],
   "source": [
    "df.size\n"
   ]
  },
  {
   "cell_type": "code",
   "execution_count": null,
   "metadata": {},
   "outputs": [],
   "source": []
  }
 ],
 "metadata": {
  "kernelspec": {
   "display_name": ".venv",
   "language": "python",
   "name": "python3"
  },
  "language_info": {
   "codemirror_mode": {
    "name": "ipython",
    "version": 3
   },
   "file_extension": ".py",
   "mimetype": "text/x-python",
   "name": "python",
   "nbconvert_exporter": "python",
   "pygments_lexer": "ipython3",
   "version": "3.13.2"
  }
 },
 "nbformat": 4,
 "nbformat_minor": 2
}
